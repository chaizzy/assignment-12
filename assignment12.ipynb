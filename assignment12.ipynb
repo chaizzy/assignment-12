{
 "cells": [
  {
   "cell_type": "code",
   "execution_count": 1,
   "id": "994baa23-45c4-4e1f-a01f-7e229edb491a",
   "metadata": {},
   "outputs": [],
   "source": [
    "# ANS 1 :\n",
    "# Database is a systematic collection of data of which support storage and manipulation  of data in a easy way\n",
    "\n",
    "# SQL (structured query language)\n",
    "# 1. used for dealing  relational databases \n",
    "# 2. These databases are best suited for complex queries\n",
    "# 3. follows acid property \n",
    "# 4. examples : mysql , db2 , mssql\n",
    "\n",
    "# NoSql(not only sql)\n",
    "# 1. These  databases are in structured way as well as in  unstuructured way\n",
    "# 2 . follows cap property \n",
    "# 3 . they are not so good for complex queries \n",
    "# 4 . examples : mongodb , db2  , cassandra \n"
   ]
  },
  {
   "cell_type": "code",
   "execution_count": 1,
   "id": "cf424a2c-0512-4f5b-83e5-c523fac0cfee",
   "metadata": {},
   "outputs": [],
   "source": [
    "# ANS 2:\n",
    "# DDL : Data Defination language \n",
    "# you can independently create a database define its structure , use it and then discard it when you are done with it\n",
    "\n",
    "# \"create\" is used to create  a table or a database  \n",
    "# example create table table_name(c1 datatype , c2 datatype ,...);\n",
    "\n",
    "#  \"drop\" is used to drop a table in a database\n",
    "# example : drop table table_name;\n",
    "\n",
    "# \"alter\" is used to modify the table \n",
    "# example : ALter table table_name\n",
    "#         add (c1 datatype , c2 datatype ,...);\n",
    "\n",
    "# \"Truncate\"  is ised to deletes all  data inside a table \n",
    "# example : truncate table table_name\n",
    "\n"
   ]
  },
  {
   "cell_type": "code",
   "execution_count": 2,
   "id": "1c853ce2-a62a-434b-a9c2-f1ca2cbccf32",
   "metadata": {},
   "outputs": [],
   "source": [
    "# ANS 3:\n",
    "# DML : data manuplation language which includes commands which is used to manuplate the data \n",
    "\n",
    "# \"insert\" is used to insert tables and values in databases\n",
    "# example insert into  table_name values (  );\n",
    "\n",
    "# \"update\" is used to update any value in a database \n",
    "# example : update table_name\n",
    "#           set value1 = value2 , value3 = value4;\n",
    "\n",
    "# \" delete\" is used to delete a particular value in a table\n",
    "# DELETE FROM table_name WHERE value1 = value2;\n",
    "\n",
    "\n",
    "\n"
   ]
  },
  {
   "cell_type": "code",
   "execution_count": 3,
   "id": "3d58bdf5-ea79-4c17-b67f-c09e1f1ef63b",
   "metadata": {},
   "outputs": [],
   "source": [
    "# ANS 4:\n",
    "# \" DQL\" data query language is used performing queries on the data within schema\n",
    "# select is used to select a particlar value from the table\n",
    "# example select * from table_name; ( gives you the whole table)"
   ]
  },
  {
   "cell_type": "code",
   "execution_count": 4,
   "id": "df2ac094-430c-43c2-a066-d0961d0d67a5",
   "metadata": {},
   "outputs": [],
   "source": [
    "# ANS 5:\n",
    "# primary key : it is a constraint  which ensures that column cannot have null value and column should have unique value\n",
    "# foreing key : it is also a constraint , it is used to prevent actions that would destroy links between tables."
   ]
  },
  {
   "cell_type": "code",
   "execution_count": 5,
   "id": "f6ebb109-b7df-4127-a3cb-36241c5e3172",
   "metadata": {},
   "outputs": [
    {
     "ename": "ModuleNotFoundError",
     "evalue": "No module named 'mysql'",
     "output_type": "error",
     "traceback": [
      "\u001b[0;31m---------------------------------------------------------------------------\u001b[0m",
      "\u001b[0;31mModuleNotFoundError\u001b[0m                       Traceback (most recent call last)",
      "Cell \u001b[0;32mIn[5], line 2\u001b[0m\n\u001b[1;32m      1\u001b[0m \u001b[38;5;66;03m# ANS 6 :\u001b[39;00m\n\u001b[0;32m----> 2\u001b[0m \u001b[38;5;28;01mimport\u001b[39;00m \u001b[38;5;21;01mmysql\u001b[39;00m\u001b[38;5;21;01m.\u001b[39;00m\u001b[38;5;21;01mconnector\u001b[39;00m\n\u001b[1;32m      3\u001b[0m mydb \u001b[38;5;241m=\u001b[39m mysql\u001b[38;5;241m.\u001b[39mconnector\u001b[38;5;241m.\u001b[39mconnect(\n\u001b[1;32m      4\u001b[0m   host\u001b[38;5;241m=\u001b[39m\u001b[38;5;124m\"\u001b[39m\u001b[38;5;124mlocalhost\u001b[39m\u001b[38;5;124m\"\u001b[39m,\n\u001b[1;32m      5\u001b[0m   user\u001b[38;5;241m=\u001b[39m\u001b[38;5;124m\"\u001b[39m\u001b[38;5;124mabc\u001b[39m\u001b[38;5;124m\"\u001b[39m,\n\u001b[1;32m      6\u001b[0m   password\u001b[38;5;241m=\u001b[39m\u001b[38;5;124m\"\u001b[39m\u001b[38;5;124mpassword\u001b[39m\u001b[38;5;124m\"\u001b[39m\n\u001b[1;32m      7\u001b[0m )\n\u001b[1;32m      8\u001b[0m \u001b[38;5;28mprint\u001b[39m(mydb)\n",
      "\u001b[0;31mModuleNotFoundError\u001b[0m: No module named 'mysql'"
     ]
    }
   ],
   "source": [
    "# ANS 6 :\n",
    "import mysql.connector\n",
    "mydb = mysql.connector.connect(\n",
    "  host=\"localhost\",\n",
    "  user=\"abc\",\n",
    "  password=\"password\"\n",
    ")\n",
    "print(mydb)\n",
    "mycursor = mydb.cursor()\n",
    "mycursor.execute(\"CREATE DATABASE if not exists test2\")\n",
    "\n",
    "\n",
    "# cursor() method is used to iterate through databases \n",
    "# execute () : method executes the given database operation (query or command)\n"
   ]
  },
  {
   "cell_type": "code",
   "execution_count": null,
   "id": "8a5613e7-f35e-47d2-87f1-be48d43395aa",
   "metadata": {},
   "outputs": [],
   "source": [
    "# ANS 6:\n",
    "# order :\n",
    "# 1. from\n",
    "# 2 .where\n",
    "# 3. group by \n",
    "# 4. having \n",
    "# 5. selct \n",
    "# 6 . order by\n",
    "# 7 . limit "
   ]
  }
 ],
 "metadata": {
  "kernelspec": {
   "display_name": "Python 3 (ipykernel)",
   "language": "python",
   "name": "python3"
  },
  "language_info": {
   "codemirror_mode": {
    "name": "ipython",
    "version": 3
   },
   "file_extension": ".py",
   "mimetype": "text/x-python",
   "name": "python",
   "nbconvert_exporter": "python",
   "pygments_lexer": "ipython3",
   "version": "3.10.8"
  }
 },
 "nbformat": 4,
 "nbformat_minor": 5
}
